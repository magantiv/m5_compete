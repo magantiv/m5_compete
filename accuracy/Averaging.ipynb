{
 "cells": [
  {
   "cell_type": "markdown",
   "metadata": {},
   "source": [
    "# Averaging & Coefficient\n",
    "\n",
    "Xiao Song\n",
    "\n",
    "<https://xsong.ltd/en>     \n",
    "[Kaggle profile](https://www.kaggle.com/rikdifos/)\n",
    "\n",
    "The competition webpage: <https://www.kaggle.com/c/m5-forecasting-accuracy>\n",
    "\n",
    "+ input submission1.csv ~ submission4.csv output file from 4 single models\n",
    "+ calculate all prediction's mean value.\n",
    "+ recode very tiny prediction to 0.\n",
    "+ multiply a constant close to 1.\n",
    "\n",
    "+ output file 'submission_accuracy_averaging.csv' is used to our final submission.\n",
    "\n",
    "+ This output also serves as a single model for M5 uncertainty competition."
   ]
  },
  {
   "cell_type": "code",
   "execution_count": 1,
   "metadata": {},
   "outputs": [],
   "source": [
    "import numpy as np\n",
    "import pandas as pd\n",
    "import time"
   ]
  },
  {
   "cell_type": "code",
   "execution_count": null,
   "metadata": {},
   "outputs": [],
   "source": [
    "def load_data():\n",
    "    '''load all submission of single models\n",
    "    '''\n",
    "    submission1 = pd.read_csv('./submission1.csv')\n",
    "    submission2 = pd.read_csv('./submission2.csv')\n",
    "    submission3 = pd.read_csv('./submission3.csv')\n",
    "    submission4 = pd.read_csv('./submission4.csv')\n",
    "    print('Our dataset has {} rows and {} columns'.format(submission1.shape[0], submission1.shape[1]))\n",
    "    return submission1, submission2, submission3, submission4 "
   ]
  },
  {
   "cell_type": "code",
   "execution_count": null,
   "metadata": {},
   "outputs": [],
   "source": [
    "submission1, submission2, submission3, submission4 = load_data()"
   ]
  },
  {
   "cell_type": "code",
   "execution_count": 6,
   "metadata": {},
   "outputs": [],
   "source": [
    "\n",
    "col = ['F' + str(i + 1) for i in range(28)]\n",
    "col\n",
    "\n",
    "def multiply_recode(df):\n",
    "    '''recode x < 0.05 -> 0\n",
    "       multiply a constant 1.02\n",
    "    '''\n",
    "    df[col] = np.where(df[col] < 0.05, 0, df[col])\n",
    "    df[col]  = df[col] * 1.02\n",
    "    return df"
   ]
  },
  {
   "cell_type": "code",
   "execution_count": 7,
   "metadata": {},
   "outputs": [],
   "source": [
    "def averaging():\n",
    "    '''mean based blending\n",
    "    '''\n",
    "    start = time.time() \n",
    "    fusion = pd.concat([submission1, submission2, submission3, submission4])\n",
    "    print('Our dataset has {} rows and {} columns'.format(fusion.shape[0], fusion.shape[1]))\n",
    "    gpmean = fusion.groupby(['id']).mean()\n",
    "    gpmean = pd.DataFrame(gpmean)\n",
    "    gpmean['id'] = gpmean.index\n",
    "    #gpmean = multiply_recode(gpmean)\n",
    "    print('Our dataset has {} rows and {} columns'.format(gpmean.shape[0], gpmean.shape[1]))\n",
    "    gpmean.to_csv('submission_accuracy_averaging.csv', index = False)\n",
    "    print('This program costs %7.2f seconds'%(time.time() - start))"
   ]
  },
  {
   "cell_type": "code",
   "execution_count": 8,
   "metadata": {},
   "outputs": [
    {
     "name": "stdout",
     "output_type": "stream",
     "text": [
      "Our dataset has 243920 rows and 29 columns\n",
      "Our dataset has 60980 rows and 29 columns\n",
      "This program costs    3.00 seconds\n"
     ]
    }
   ],
   "source": [
    "averaging()"
   ]
  }
 ],
 "metadata": {
  "kernelspec": {
   "display_name": "Python 3",
   "language": "python",
   "name": "python3"
  },
  "language_info": {
   "codemirror_mode": {
    "name": "ipython",
    "version": 3
   },
   "file_extension": ".py",
   "mimetype": "text/x-python",
   "name": "python",
   "nbconvert_exporter": "python",
   "pygments_lexer": "ipython3",
   "version": "3.7.3"
  },
  "toc": {
   "base_numbering": 1,
   "nav_menu": {},
   "number_sections": true,
   "sideBar": true,
   "skip_h1_title": false,
   "title_cell": "Table of Contents",
   "title_sidebar": "Contents",
   "toc_cell": false,
   "toc_position": {},
   "toc_section_display": true,
   "toc_window_display": false
  }
 },
 "nbformat": 4,
 "nbformat_minor": 4
}
