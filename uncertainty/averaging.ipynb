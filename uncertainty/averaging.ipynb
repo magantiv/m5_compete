{
 "cells": [
  {
   "cell_type": "markdown",
   "metadata": {},
   "source": [
    "# Mean Based Blending\n",
    "\n",
    "Xiao Song\n",
    "\n",
    "<https://xsong.ltd/en>     \n",
    "[Kaggle profile](https://www.kaggle.com/rikdifos/)\n",
    "\n",
    "The competition webpage: <https://www.kaggle.com/c/m5-forecasting-uncertainty>\n",
    "\n",
    "+ This notebook does a averaging from 2 submission files.  \n",
    "\n",
    "+ The first file is from `point-prediction-to-uncertainty.ipynb`'s output file.\n",
    "\n",
    "+ The second file is from `quantile-regression-with-keras.ipynb` 's output file\n",
    "\n",
    "+ I calculate mean values of the 2 submissions.\n",
    "\n",
    "+ Finally I convert all negative prediction to 0, it improved my score.\n",
    "\n",
    "+ The output, `submission_averaging0701.csv`, is used for the final submission."
   ]
  },
  {
   "cell_type": "code",
   "execution_count": 1,
   "metadata": {},
   "outputs": [],
   "source": [
    "import warnings\n",
    "warnings.filterwarnings('ignore')\n",
    "import time\n",
    "import numpy as np\n",
    "import pandas as pd\n",
    "import os"
   ]
  },
  {
   "cell_type": "code",
   "execution_count": 2,
   "metadata": {},
   "outputs": [],
   "source": [
    "def load_data():\n",
    "    '''load 2 single submission files\n",
    "    '''\n",
    "    submission1 = pd.read_csv('./from_accuracy2uncertainty.csv')\n",
    "    submission2 = pd.read_csv('./submission_from_keras.csv')\n",
    "    print('dataset 1 has {} rows and {} columns'.format(submission1.shape[0],\n",
    "                                                        submission1.shape[1]))\n",
    "    print('dataset 2 has {} rows and {} columns'.format(submission2.shape[0],\n",
    "                                                        submission2.shape[1]))\n",
    "    return submission1, submission2 "
   ]
  },
  {
   "cell_type": "code",
   "execution_count": 3,
   "metadata": {},
   "outputs": [],
   "source": [
    "col = ['F' + str(i + 1) for i in range(28)] # generate column names\n",
    "\n",
    "def recode_negative(df):\n",
    "    '''recode negative value to 0\n",
    "    '''\n",
    "    df[col] = np.where(df[col] < 0, 0, df[col])\n",
    "    return df"
   ]
  },
  {
   "cell_type": "code",
   "execution_count": 5,
   "metadata": {},
   "outputs": [],
   "source": [
    "def averaging():\n",
    "    '''model averaging\n",
    "    '''\n",
    "    start = time.time() \n",
    "    submission1, submission2 = load_data() \n",
    "    submission1 = recode_negative(submission1)\n",
    "    submission2 = recode_negative(submission2)\n",
    "    fusion = pd.concat([submission1,submission2])\n",
    "    print('Our dataset has {} rows and {} columns'.format(fusion.shape[0], fusion.shape[1]))\n",
    "    gpmean = fusion.groupby(['id']).mean()\n",
    "    gpmean = pd.DataFrame(gpmean)\n",
    "    gpmean['id'] = gpmean.index\n",
    "    gpmean = recode_negative(gpmean)\n",
    "    print('Our dataset has {} rows and {} columns'.format(gpmean.shape[0], gpmean.shape[1]))\n",
    "    gpmean.to_csv('../output/submission_averaging0701.csv', index = False)\n",
    "    print('This program costs %7.2f seconds'%(time.time() - start))"
   ]
  },
  {
   "cell_type": "code",
   "execution_count": 6,
   "metadata": {},
   "outputs": [
    {
     "name": "stdout",
     "output_type": "stream",
     "text": [
      "dataset 1 has 771120 rows and 29 columns\n",
      "dataset 2 has 771120 rows and 29 columns\n",
      "Our dataset has 1542240 rows and 29 columns\n",
      "Our dataset has 771120 rows and 29 columns\n",
      "This program costs   58.95 seconds\n"
     ]
    }
   ],
   "source": [
    "averaging()"
   ]
  },
  {
   "cell_type": "code",
   "execution_count": null,
   "metadata": {},
   "outputs": [],
   "source": []
  },
  {
   "cell_type": "code",
   "execution_count": null,
   "metadata": {},
   "outputs": [],
   "source": []
  }
 ],
 "metadata": {
  "kernelspec": {
   "display_name": "Python 3",
   "language": "python",
   "name": "python3"
  },
  "language_info": {
   "codemirror_mode": {
    "name": "ipython",
    "version": 3
   },
   "file_extension": ".py",
   "mimetype": "text/x-python",
   "name": "python",
   "nbconvert_exporter": "python",
   "pygments_lexer": "ipython3",
   "version": "3.7.3"
  },
  "toc": {
   "base_numbering": 1,
   "nav_menu": {},
   "number_sections": true,
   "sideBar": true,
   "skip_h1_title": false,
   "title_cell": "Table of Contents",
   "title_sidebar": "Contents",
   "toc_cell": false,
   "toc_position": {},
   "toc_section_display": true,
   "toc_window_display": false
  }
 },
 "nbformat": 4,
 "nbformat_minor": 2
}
